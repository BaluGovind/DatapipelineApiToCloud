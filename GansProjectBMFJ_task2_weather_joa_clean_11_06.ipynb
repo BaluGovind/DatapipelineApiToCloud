{
 "cells": [
  {
   "cell_type": "code",
   "execution_count": 2,
   "id": "7af2a2ef-0f21-488f-b347-e48c65f17099",
   "metadata": {},
   "outputs": [
    {
     "name": "stdout",
     "output_type": "stream",
     "text": [
      "Requirement already satisfied: python-dotenv in c:\\users\\hp\\anaconda3\\lib\\site-packages (0.20.0)\n"
     ]
    }
   ],
   "source": [
    "import pandas as pd\n",
    "import requests\n",
    "from datetime import datetime\n",
    "import pytz\n",
    "!pip install python-dotenv\n",
    "%load_ext dotenv\n",
    "%dotenv\n",
    "import os"
   ]
  },
  {
   "cell_type": "code",
   "execution_count": null,
   "id": "26c6f5bc-9194-449d-aa3d-c7a6540d1830",
   "metadata": {},
   "outputs": [],
   "source": [
    "city = 'Weimar'\n",
    "API_key = os.getenv(\"API_K_W\")\n",
    "print(API_key)\n",
    "url = (f\"http://api.openweathermap.org/data/2.5/forecast?q={city}&appid={API_key}&units=metric\")\n",
    "response = requests.get(url)\n",
    "json = response.json()\n",
    "json"
   ]
  },
  {
   "cell_type": "code",
   "execution_count": null,
   "id": "4fc923d5-0e0b-4b5f-af8c-ab49152e3c6e",
   "metadata": {},
   "outputs": [],
   "source": [
    "cit = ['Berlin', 'London', 'Paris', 'Rome', 'Wien','Tallinn', 'Budapest', 'Warschau', 'Prague', 'Lisbon', 'Madrid', 'Amsterdam', 'Zagreb', 'Sofia', 'Athens']# use Englisch if possible\n",
    "citd =['Berlin', 'Munich', 'Frankfurt', 'Kiel', 'Rostock', 'Leipzig', 'Cologne', 'Dresden', 'Erfurt', 'Jena', 'Weimar', 'Essen', 'Stuttgart', 'Mainz', 'Hannover', 'Hamburg']#alternatively only German cities\n",
    "def weather(cities):\n",
    "  API_key = os.getenv(\"API_K_W\")#gets key from the env file\n",
    "\n",
    "  tz = pytz.timezone('Europe/Berlin')# timezone needs to be imported and translated for the european cities (Europe_Berlin to Europe/Berlin), see cell below\n",
    "  now = datetime.now().astimezone(tz)#for the timestamp time of sampling\n",
    "\n",
    "  a = {'City': [], 'Country': [], 'ForecastTime': [], 'Outlook': [], 'Temperature': [], 'Clouds': [], 'Rain': [], 'Snow': [], 'WindSpeed': [], 'DateInformation': []} #usefull form of a dic, gives the right form when change to df, see cell below \n",
    "\n",
    "  for city in cities: #runs a loop over the cities\n",
    "    url = (f\"http://api.openweathermap.org/data/2.5/forecast?q={city}&appid={API_key}&units=metric\")\n",
    "    response = requests.get(url)\n",
    "    json = response.json() # the first 'priciple' key for this json is 'list', which is not good practice in my op but must be used to loop over it\n",
    "    # print(json['city']['name'])\n",
    "    # print(type(json))\n",
    "\n",
    "    for i in json['list']:# informations will be added to the dic a according to the json structure (see weimar cell above), if-else for rain does not work (is there or not but python cannot know that it could be there), therefore try except - appears to work but I´m not sure if clean\n",
    "      #print(i)  \n",
    "      a['City'].append(json['city']['name'])\n",
    "      a['Country'].append(json['city']['country'])\n",
    "      a['ForecastTime'].append(i['dt_txt'])\n",
    "      a['Outlook'].append(i['weather'][0]['description'])\n",
    "      a['Temperature'].append(i['main']['temp'])\n",
    "      a['Clouds'].append(i['clouds']['all'])\n",
    "      try:\n",
    "          a['Rain'].append(i['rain']['3h'])\n",
    "      except:\n",
    "          a['Rain'].append('0')\n",
    "      try:\n",
    "          a['Snow'].append(i['snow']['3h'])\n",
    "      except:\n",
    "          a['Snow'].append('0')\n",
    "      a['WindSpeed'].append(i['wind']['speed'])\n",
    "      a['DateInformation'].append(now.strftime(\"%d/%m/%Y %H:%M:%S\"))\n",
    "    b=pd.DataFrame(a) #turns a to datafram , see cell below\n",
    "    #print(b)\n",
    "  return b\n",
    "weather(cit)\n"
   ]
  },
  {
   "cell_type": "code",
   "execution_count": null,
   "id": "23c16ca2-b9ab-4bed-8d57-cc4e1d2ee4d6",
   "metadata": {},
   "outputs": [],
   "source": [
    "test = {'City' : ['Berlin', 'Berlin', 'Berlin'], 'Timeofday' : ['Morning', 'Midday', 'Evening']}\n",
    "getested = pd.DataFrame(test)\n",
    "getested"
   ]
  },
  {
   "cell_type": "code",
   "execution_count": 10,
   "id": "ae414121-6a2c-47f5-ad21-ce407efaa9d3",
   "metadata": {},
   "outputs": [
    {
     "name": "stdout",
     "output_type": "stream",
     "text": [
      "11/06/2022 16:55:55\n"
     ]
    }
   ],
   "source": [
    "tzone = pytz.timezone('Europe/Berlin')\n",
    "now = datetime.now().astimezone(tzone)\n",
    "print(now.strftime(\"%d/%m/%Y %H:%M:%S\"))"
   ]
  }
 ],
 "metadata": {
  "kernelspec": {
   "display_name": "Python 3 (ipykernel)",
   "language": "python",
   "name": "python3"
  },
  "language_info": {
   "codemirror_mode": {
    "name": "ipython",
    "version": 3
   },
   "file_extension": ".py",
   "mimetype": "text/x-python",
   "name": "python",
   "nbconvert_exporter": "python",
   "pygments_lexer": "ipython3",
   "version": "3.9.7"
  }
 },
 "nbformat": 4,
 "nbformat_minor": 5
}
