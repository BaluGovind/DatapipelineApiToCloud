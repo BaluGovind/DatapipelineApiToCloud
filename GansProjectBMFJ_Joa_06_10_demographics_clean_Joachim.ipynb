{
 "cells": [
  {
   "cell_type": "markdown",
   "id": "1b6b7a4e-80d1-4bbc-a888-357ac7a6261c",
   "metadata": {},
   "source": [
    "The Gans Project by Balu, Marvin, Frederico and Joachim "
   ]
  },
  {
   "cell_type": "markdown",
   "id": "f36a9973-c39a-4a94-80db-66d11441eaf3",
   "metadata": {},
   "source": [
    "The first task is to get the lat., long., population, country, countrycode and wiki_dataid for a list of cities in Europe and put it in a dataframe"
   ]
  },
  {
   "cell_type": "code",
   "execution_count": null,
   "id": "6fb23c48-ef64-4eca-830e-0bfcfdbc1bc1",
   "metadata": {},
   "outputs": [],
   "source": [
    "import requests\n",
    "import pandas as pd\n",
    "import json\n",
    "from bs4 import BeautifulSoup\n",
    "import re\n",
    "import time\n",
    "\n",
    "#define the list of cities\n",
    "cit = ['Berlin', 'London', 'Paris', 'Rome', 'Wien','Tallinn', 'Budapest', 'Warschau', 'Prague', 'Lisbon', 'Madrid', 'Amsterdam', 'Zagreb', 'Sofia', 'Athens']# use Englisch if possible\n",
    "#strategy is to first get the wikidataid and than collect the data from geoDB; openweather has no population data or at least I coul´nt see them \n",
    "\n",
    "cities_id = [] # initiate an empty id list\n",
    "dfList = []\n",
    "def demo(cities):\n",
    "    cities_id = [] # initiate an empty id list\n",
    "    dfList = []\n",
    "    for city in cities:\n",
    "        #retrieve the wikidataId\n",
    "        time.sleep(1)\n",
    "        url1 = 'https://en.wikipedia.org/wiki/{}'.format(city) #go to the wiki site of the city\n",
    "        citem = requests.get(url1, 'html.parser') # get the html\n",
    "        if BeautifulSoup(citem.content) != None:\n",
    "            soup = BeautifulSoup(citem.content)# soup the content\n",
    "        if soup.find('li', {'id':'t-wikibase'}).find('a')['href'] != None:\n",
    "            wikidata_link = soup.find('li', {'id':'t-wikibase'}).find('a')['href'] #find the link that contains the wikidataid e.g. London https://www.wikidata.org/wiki/Q84\n",
    "        wl.append(wikidata_link)\n",
    "        # \\d+ is a regular expression and means one digit or more, the wiki data id consist of a Q followed by severaldigits\n",
    "        #for group() in re see: https://www.tutorialspoint.com/What-is-the-groups-method-in-regular-expressions-in-Python\n",
    "        city_id = re.search('Q\\d+', wikidata_link).group()\n",
    "        cities_id.append(city_id)\n",
    "        #use the wikidataId to retrieve infrormation from geoDB\n",
    "        url2 = \"https://wft-geo-db.p.rapidapi.com/v1/geo/cities/{}\".format(city_id)\n",
    "        headers = {\n",
    "        \"X-RapidAPI-Key\": \"3cd15bf266msh2331a2a034ea490p1c96a2jsn828e9dce3a50\",\n",
    "        \"X-RapidAPI-Host\": \"wft-geo-db.p.rapidapi.com\"\n",
    "        }    \n",
    "        response = requests.request(\"GET\", url2, headers=headers)# gets a json-like string fromg geoDB containing the necessary informations\n",
    "        cit_dic = {}#make a dictionary to retrieve the information\n",
    "        cit_dic['City'] = response.json()['data']['name']\n",
    "        cit_dic['Country'] = response.json()['data']['country']\n",
    "        cit_dic['CountryCode'] = response.json()['data']['countryCode']\n",
    "        cit_dic['WikiDataId'] = response.json()['data']['wikiDataId']\n",
    "        cit_dic['Latitude'] = round(response.json()['data']['latitude'], 4)\n",
    "        cit_dic['Longitude'] = round(response.json()['data']['longitude'], 4)\n",
    "        cit_dic['Population'] = response.json()['data']['population']\n",
    "        cit_dic['Timezone'] = response.json()['data']['timezone']\n",
    "        \n",
    "        dfList.append(cit_dic) #put it in a list\n",
    "        df_demo = pd.DataFrame(dfList) # transform the list to df\n",
    "\n",
    "    return df_demo\n",
    "demo(cit) #run the whole thing - good luck!"
   ]
  }
 ],
 "metadata": {
  "kernelspec": {
   "display_name": "Python 3 (ipykernel)",
   "language": "python",
   "name": "python3"
  },
  "language_info": {
   "codemirror_mode": {
    "name": "ipython",
    "version": 3
   },
   "file_extension": ".py",
   "mimetype": "text/x-python",
   "name": "python",
   "nbconvert_exporter": "python",
   "pygments_lexer": "ipython3",
   "version": "3.9.7"
  }
 },
 "nbformat": 4,
 "nbformat_minor": 5
}
