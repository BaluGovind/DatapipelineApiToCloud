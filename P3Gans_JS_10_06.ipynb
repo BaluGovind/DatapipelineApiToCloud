{
 "cells": [
  {
   "cell_type": "markdown",
   "id": "1b6b7a4e-80d1-4bbc-a888-357ac7a6261c",
   "metadata": {},
   "source": [
    "The Gans Project by Balu, Marvin, Frederico and Joachim "
   ]
  },
  {
   "cell_type": "markdown",
   "id": "35c62344-c016-4c50-9a96-cf3a48885483",
   "metadata": {},
   "source": [
    "In this project, our E-scooter company is trying to predict  effective locations in Germany to place our scooters. For the purpose of this project we are trying to attract air travellers and  tourists to use our commodity as a means of transportation. As an experiment we are limiting ourselves to 16 of the largest air hubs in Germany which are also popular tourist destinations. "
   ]
  },
  {
   "cell_type": "code",
   "execution_count": 1,
   "id": "f6c476a6-e423-4648-a6a5-3ed5a493f868",
   "metadata": {},
   "outputs": [
    {
     "name": "stdout",
     "output_type": "stream",
     "text": [
      "Requirement already satisfied: python-dotenv in c:\\users\\hp\\anaconda3\\lib\\site-packages (0.20.0)\n"
     ]
    }
   ],
   "source": [
    "import requests\n",
    "import pandas as pd\n",
    "import json\n",
    "from bs4 import BeautifulSoup\n",
    "import re\n",
    "import time\n",
    "import os\n",
    "import pytz\n",
    "from datetime import datetime\n",
    "import mysql.connector\n",
    "import sqlalchemy\n",
    "!pip install python-dotenv\n",
    "%load_ext dotenv\n",
    "%dotenv"
   ]
  },
  {
   "cell_type": "markdown",
   "id": "f36a9973-c39a-4a94-80db-66d11441eaf3",
   "metadata": {},
   "source": [
    "The first task is to get the lat., long., population, country, countrycode and wiki_dataid for a list of cities in Germany and put it in a dataframe. This code is designed so that in future more cities maybe added."
   ]
  },
  {
   "cell_type": "code",
   "execution_count": null,
   "id": "6fb23c48-ef64-4eca-830e-0bfcfdbc1bc1",
   "metadata": {},
   "outputs": [],
   "source": [
    "API_key = os.getenv(\"API_K_C\")\n",
    "#gets the API key from .env\n",
    "#define the list of cities\n",
    "\n",
    "citd =['Baden-Baden', \"Berlin\",  \"Bonn\", 'Bremen', 'Dresden', 'Dortmund', 'Düsseldorf', 'Essen', 'Frankfurt am Main', 'Hamburg', 'Hannover', 'Leipzig', \"Munich\", 'Münster',  'Nuremberg',  'Stuttgart']\n",
    "\n",
    "#strategy is to first get the wikidataid and than collect the data from geoDB; openweather has no population data or at least I coul´nt see them \n",
    "\n",
    "\n",
    "API_key = os.getenv(\"API_K_C\")\n",
    "def demo(cities):\n",
    "    cities_id = [] # initiate an empty id list\n",
    "    dfList = []\n",
    "    for city in cities:\n",
    "        #retrieve the wikidataId\n",
    "        time.sleep(1)\n",
    "        url1 = 'https://en.wikipedia.org/wiki/{}'.format(city) #go to the wiki site of the city\n",
    "        citem = requests.get(url1, 'html.parser') # get the html\n",
    "        if BeautifulSoup(citem.content) != None:\n",
    "            soup = BeautifulSoup(citem.content)# soup the content\n",
    "        if soup.find('li', {'id':'t-wikibase'}).find('a')['href'] != None:\n",
    "            wikidata_link = soup.find('li', {'id':'t-wikibase'}).find('a')['href'] #find the link that contains the wikidataid e.g. London https://www.wikidata.org/wiki/Q84\n",
    "        #wl.append(wikidata_link)\n",
    "        # \\d+ is a regular expression and means one digit or more, the wiki data id consist of a Q followed by severaldigits\n",
    "        #for group() in re see: https://www.tutorialspoint.com/What-is-the-groups-method-in-regular-expressions-in-Python\n",
    "        city_id = re.search('Q\\d+', wikidata_link).group()\n",
    "        cities_id.append(city_id)\n",
    "        #use the wikidataId to retrieve infrormation from geoDB\n",
    "        url2 = \"https://wft-geo-db.p.rapidapi.com/v1/geo/cities/{}\".format(city_id)\n",
    "        headers = {\n",
    "        \"X-RapidAPI-Key\": API_key,\n",
    "        \"X-RapidAPI-Host\": \"wft-geo-db.p.rapidapi.com\"\n",
    "        }    \n",
    "        response = requests.request(\"GET\", url2, headers=headers)# gets a json-like string fromg geoDB containing the necessary informations\n",
    "        print(response.json())\n",
    "        cit_dic = {}#make a dictionary to retrieve the information\n",
    "        cit_dic['City'] = response.json()['data']['name']\n",
    "        cit_dic['Country'] = response.json()['data']['country']\n",
    "        cit_dic['CountryCode'] = response.json()['data']['countryCode']\n",
    "        cit_dic['WikiDataId'] = response.json()['data']['wikiDataId']\n",
    "        cit_dic['Latitude'] = round(response.json()['data']['latitude'], 4)\n",
    "        cit_dic['Longitude'] = round(response.json()['data']['longitude'], 4)\n",
    "        cit_dic['Population'] = response.json()['data']['population']\n",
    "        cit_dic['Timezone'] = response.json()['data']['timezone']\n",
    "        \n",
    "        dfList.append(cit_dic) #put it in a list\n",
    "    df_demo = pd.DataFrame(dfList) # transform the list to df\n",
    "    df_demo.to_csv('./csvTables/City.csv') #writes the df to csv to the folder csv tables and replaces the table of the same name that might be already there\n",
    "    return df_demo\n",
    "demo(citd) #run the whole thing - good luck!"
   ]
  },
  {
   "cell_type": "markdown",
   "id": "227f32fd-d611-471a-bd63-7578ecf4f392",
   "metadata": {},
   "source": [
    "Focussing on these 15 cities, we are collecting the weather forecast. This DF is subject to change as the weather information is updated as needed."
   ]
  },
  {
   "cell_type": "code",
   "execution_count": null,
   "id": "1a7f4c71-fa18-4982-a1fb-a8e26e5884a6",
   "metadata": {},
   "outputs": [],
   "source": [
    "citd =['Baden-Baden', \"Berlin\",  \"Bonn\", 'Bremen', 'Dresden', 'Dortmund', 'Düsseldorf', 'Essen', 'Frankfurt am Main', 'Hamburg', 'Hannover', 'Leipzig', \"Munich\", 'Münster',  'Nuremberg',  'Stuttgart']#alternatively only German cities\n",
    "\n",
    "def weather(cities):\n",
    "    API_key = os.getenv(\"API_K_W\")\n",
    "    print(API_key)#gets key from the env file\n",
    "\n",
    "    tz = pytz.timezone('Europe/Berlin')# timezone needs to be imported and translated for the european cities (Europe_Berlin to Europe/Berlin), see cell below\n",
    "    now = datetime.now().astimezone(tz)#for the timestamp time of sampling\n",
    "\n",
    "    a = {'City': [], 'Country': [], 'ForecastTime': [], 'Outlook': [], 'Temperature': [], 'Clouds': [], 'Rain': [], 'Snow': [], 'WindSpeed': [], 'DateInformation': []} #usefull form of a dic, gives the right form when change to df, see cell below \n",
    "\n",
    "    for city in cities: #runs a loop over the cities\n",
    "        url = (f\"http://api.openweathermap.org/data/2.5/forecast?q={city}&appid={API_key}&units=metric\")\n",
    "        response = requests.get(url)\n",
    "        json = response.json() # the first 'priciple' key for this json is 'list', which is not good practice in my op but must be used to loop over it\n",
    "    #print(json['city']['name'])\n",
    "    # print(type(json))\n",
    "\n",
    "        for i in json['list']:# informations will be added to the dic a according to the json structure (see weimar cell above), if-else for rain does not work (is there or not but python cannot know that it could be there), therefore try except - appears to work but I´m not sure if clean\n",
    "          #print(i)  \n",
    "            a['City'].append(json['city']['name'])\n",
    "            a['Country'].append(json['city']['country'])\n",
    "            a['ForecastTime'].append(i['dt_txt'])\n",
    "            a['Outlook'].append(i['weather'][0]['description'])\n",
    "            a['Temperature'].append(i['main']['temp'])\n",
    "            a['Clouds'].append(i['clouds']['all'])\n",
    "            try:\n",
    "                a['Rain'].append(i['rain']['3h'])\n",
    "            except:\n",
    "                a['Rain'].append('0')\n",
    "            try:\n",
    "                a['Snow'].append(i['snow']['3h'])\n",
    "            except:\n",
    "                a['Snow'].append('0')\n",
    "            a['WindSpeed'].append(i['wind']['speed'])\n",
    "            a['DateInformation'].append(now.strftime(\"%d/%m/%Y %H:%M:%S\"))\n",
    "    b=pd.DataFrame(a) #turns a to datafram , see cell below\n",
    "    b.to_csv('./csvTables/Weather.csv') #writes the df to csv to the folder csv tables and replaces the table of the same name that might be already there\n",
    "    return b\n",
    "    \n",
    "weather(citd)\n"
   ]
  },
  {
   "cell_type": "code",
   "execution_count": 2,
   "id": "3bd4ca07-36a3-477b-9122-9b83317fcde6",
   "metadata": {},
   "outputs": [
    {
     "name": "stdout",
     "output_type": "stream",
     "text": [
      "d0040c9b033d6a3a4772784afd988afa\n"
     ]
    }
   ],
   "source": [
    "API_key = os.getenv(\"API_K_W\")\n",
    "print(API_key)#gets key from the env file"
   ]
  },
  {
   "cell_type": "markdown",
   "id": "0e9ea6e9-df93-4f5d-8f5e-d7b19db3539e",
   "metadata": {},
   "source": [
    "For the cities in our database we now get the details of the airports. "
   ]
  },
  {
   "cell_type": "code",
   "execution_count": null,
   "id": "6beb328c-68dd-4c2b-a279-8775390f4a1b",
   "metadata": {},
   "outputs": [],
   "source": [
    "from IPython.display import JSON\n",
    "#citd =['Baden-Baden', \"Berlin\",  \"Bonn\", 'Bremen', 'Dresden', 'Dortmund', 'Düsseldorf', 'Essen', 'Frankfurt am Main', 'Hamburg', 'Hannover', 'Leipzig', \"Munich\", 'Münster',  'Nuremberg',  'Stuttgart']\n",
    "ac = ['EDSB', 'EDDT', 'EDDB', 'EDDK', 'EDDW', 'EDDC', 'EDLW', 'EDDL', 'EDDF', 'EDDH', 'EDDV', 'EDDP', 'EDDM', 'EDDG', 'EDDN', 'EDDS']\n",
    "\n",
    "def airp(cities):\n",
    "    airport = []\n",
    "    API_KE = '1821798fe1mshc0aaf1be2c43cedp1289ecjsn546ec73b6483'\n",
    "\n",
    "    for i in ac:\n",
    "        url = f\"https://aerodatabox.p.rapidapi.com/airports/icao/{i}\"\n",
    "\n",
    "        querystring = {\"withRunways\":\"true\"}\n",
    "\n",
    "        headers = {\n",
    "            \"X-RapidAPI-Key\": API_KE,\n",
    "            \"X-RapidAPI-Host\": \"aerodatabox.p.rapidapi.com\"\n",
    "        }\n",
    "\n",
    "        response = requests.request(\"GET\", url, headers=headers, params=querystring)\n",
    "        aa = {}#make a dictionary to retrieve the information\n",
    "        aa['City'] = response.json()['municipalityName']\n",
    "        aa['icao'] = response.json()['icao']\n",
    "        aa['iata'] = response.json()['iata']\n",
    "        aa['Time_Zone'] = response.json()['timeZone']\n",
    "        aa['Country'] = response.json()['country']['name']\n",
    "        aa['Country_Code'] = response.json()['country']['code']\n",
    "        aa['Continent'] = response.json()['continent']['name']\n",
    "        try:\n",
    "            aa['Website'] = response.json()['urls']['webSite']              \n",
    "        except:\n",
    "            aa['Website'] = 'Not available'\n",
    "        airport.append(aa)\n",
    "    b = pd.DataFrame(airport)\n",
    "    b.to_csv('./csvTables/Airports.csv') #writes the df to csv to the folder csv tables and replaces the table of the same name that might be already there\n",
    "    return b \n",
    "\n",
    "airp(ac)\n"
   ]
  },
  {
   "cell_type": "markdown",
   "id": "85a80c75-754f-472b-8c67-02ff752eccb5",
   "metadata": {},
   "source": [
    "For all the airports in our list we can have the  details of the arriving flights. The most important detail being the flight times. The list may also optionally include the details of the flights origin as in future we can have a statistical analysis of the passengers who may use our scooters. This is also a changing DF and with queries we can find out the most and least busiest times of the day. This code is not ideal since it does not show the destination airport. Need to edit the codes."
   ]
  },
  {
   "cell_type": "code",
   "execution_count": null,
   "id": "967b5073-9c60-454b-a769-fa88d1e48043",
   "metadata": {},
   "outputs": [],
   "source": [
    "import os\n",
    "\n",
    "API_KE = 'd67656b1a1mshbd01e446e3b088dp1b216ejsn1abb69340012' #os.getenv(\"API_C_F\")\n",
    "#print(API_KE)\n",
    "cit = ['EDSB', 'EDDT', 'EDDB', 'EDDK', 'EDDW', 'EDDC', 'EDLW', 'EDDL', 'EDDF', 'EDDH', 'EDDV', 'EDDP', 'EDDM', 'EDDG', 'EDDN', 'EDDS']\n",
    "def flights(cities):\n",
    "    \n",
    "    a = {'City': [], 'FlightNumber': [], 'FlightStatus': [], 'OriginAirport': [], 'ScheduledTime': [], 'AirLine': []}#, 'Outlook': [], 'Temperature': [], 'Clouds': [], 'Rain': [], 'Snow': [], 'WindSpeed': [], 'DateInformation': []}\n",
    "    for city in cities:\n",
    "        url = f\"https://aerodatabox.p.rapidapi.com/flights/airports/icao/{city}/2022-06-15T06:00/2022-06-15T17:00\"\n",
    "        querystring = {\"direction\":\"Arrival\",\"withCodeshared\":\"true\",\"withCargo\":\"false\",\"withPrivate\":\"false\",\"withLocation\":\"true\"}\n",
    "        headers = {\n",
    "           \"X-RapidAPI-Host\": \"aerodatabox.p.rapidapi.com\",\n",
    "           \"X-RapidAPI-Key\": API_KE\n",
    "           }\n",
    "        responses = requests.request(\"GET\", url, headers=headers, params=querystring)\n",
    "        json = responses.json()\n",
    "        print(json)\n",
    "        \n",
    "        for i in json['arrivals']:\n",
    "            a['City'] = city\n",
    "            a['FlightNumber'].append(i['number'])\n",
    "            a['FlightStatus'].append(i['status'])\n",
    "            a['OriginAirport'].append(i['movement']['airport']['name'])\n",
    "            a['ScheduledTime'].append(i['movement']['scheduledTimeLocal'])\n",
    "            a['AirLine'].append(i['airline']['name'])\n",
    "        \n",
    "    c = pd.DataFrame(a)\n",
    "    c.to_csv('./csvTables/Flights.csv') #writes the df to csv to the folder csv tables and replaces the table of the same name that might be already there\n",
    "    return c\n",
    "flights(cit)\n",
    "\n"
   ]
  },
  {
   "cell_type": "code",
   "execution_count": null,
   "id": "e8f51571-a2fc-4954-a93f-7ad32743430d",
   "metadata": {},
   "outputs": [],
   "source": [
    "demo(citd)"
   ]
  },
  {
   "cell_type": "code",
   "execution_count": null,
   "id": "1d069d73-3b90-4687-8cd6-10cff4431469",
   "metadata": {},
   "outputs": [],
   "source": [
    "weather(citd)"
   ]
  },
  {
   "cell_type": "code",
   "execution_count": null,
   "id": "b5aa435f-6c63-4761-b95c-0c8b611dbf29",
   "metadata": {},
   "outputs": [],
   "source": [
    "flights(cit)"
   ]
  },
  {
   "cell_type": "code",
   "execution_count": null,
   "id": "5a5361c3-1f4e-4045-b9d6-6a5d8f68e08d",
   "metadata": {},
   "outputs": [],
   "source": [
    "airp(ac)"
   ]
  },
  {
   "cell_type": "markdown",
   "id": "c7b6bcb8-072b-4b27-bd4b-381adf5e8759",
   "metadata": {},
   "source": [
    "After completing all the DFs, they are exported to an already created SQL Schema. Note: No tables were created in MySQL workbench all tables are created from here. Once created go to sql to create Primary and Foreign Keys. Also the flights DF is not exported as the city column is missing and I have ran out of API calls."
   ]
  },
  {
   "cell_type": "code",
   "execution_count": 50,
   "id": "beeab469-8b87-49d7-be01-24856166fa1a",
   "metadata": {},
   "outputs": [],
   "source": [
    "\n",
    "# define connection details\n",
    "cnx = mysql.connector.connect(\n",
    "    user='root',\n",
    "    password='Majupau7##1.0', #type your root password here\n",
    "    host='127.0.0.1', # to connect to your local instance\n",
    "    database='scooter' #type the name of the database you want to use here\n",
    ")\n",
    " \n",
    "# connect to database\n",
    "cursor   = cnx.cursor()\n",
    "schema   =\"scooter\"\n",
    "host     =\"127.0.0.1\"\n",
    "user     =\"root\"\n",
    "password = pw\n",
    "port     = 3306\n",
    "con      = f'mysql+pymysql://{user}:{password}@{host}:{port}/{schema}'"
   ]
  },
  {
   "cell_type": "code",
   "execution_count": null,
   "id": "10c3ab56-200f-410a-b78a-5f1c2a44d944",
   "metadata": {},
   "outputs": [],
   "source": [
    "cnx = mysql.connector.connect(\n",
    "    user='admin',\n",
    "    password='!Kochumol20', #type your root password here\n",
    "    host='gans.czi7af4kh5fl.us-east-1.rds.amazonaws.com', # to connect to your local instance\n",
    "    database='gans' #type the name of the database you want to use here\n",
    ")\n",
    " \n",
    "# connect to database\n",
    "cursor = cnx.cursor()\n",
    "schema=\"gans\"\n",
    "host=\"gans.czi7af4kh5fl.us-east-1.rds.amazonaws.com\"\n",
    "user=\"admin\"\n",
    "password=\"!Kochumol20\"\n",
    "port=3306\n",
    "on = f'mysql+pymysql://{user}:{password}@{host}:{port}/{schema}'"
   ]
  },
  {
   "cell_type": "code",
   "execution_count": null,
   "id": "bb911118-8907-471a-8811-d2d8dc478d88",
   "metadata": {},
   "outputs": [],
   "source": [
    "# !pip install pymysql\n",
    "# weather(citd).to_sql('weather', \n",
    "#               if_exists='append', \n",
    "#               con=con, \n",
    "#               index=False)\n",
    "# airp(ac).to_sql('airports', \n",
    "#               if_exists='append', \n",
    "#               con=con, \n",
    "#               index=False)\n",
    "# demo(citd).to_sql('cities', \n",
    "#               if_exists='append', \n",
    "#               con=con, \n",
    "#               index=False)\n",
    "# flights(cit).to_sql('flights', \n",
    "#               if_exists='append', \n",
    "#               con=con, \n",
    "#               index=False)"
   ]
  }
 ],
 "metadata": {
  "kernelspec": {
   "display_name": "Python 3 (ipykernel)",
   "language": "python",
   "name": "python3"
  },
  "language_info": {
   "codemirror_mode": {
    "name": "ipython",
    "version": 3
   },
   "file_extension": ".py",
   "mimetype": "text/x-python",
   "name": "python",
   "nbconvert_exporter": "python",
   "pygments_lexer": "ipython3",
   "version": "3.9.7"
  }
 },
 "nbformat": 4,
 "nbformat_minor": 5
}
