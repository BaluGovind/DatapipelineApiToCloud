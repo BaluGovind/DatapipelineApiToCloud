{
 "cells": [
  {
   "cell_type": "markdown",
   "id": "1b6b7a4e-80d1-4bbc-a888-357ac7a6261c",
   "metadata": {},
   "source": [
    "The Gans Project by Balu, Marvin, Frederico and Joachim "
   ]
  },
  {
   "cell_type": "code",
   "execution_count": null,
   "id": "79742450-83fd-4c01-8d9d-257e0f042c4c",
   "metadata": {},
   "outputs": [],
   "source": []
  }
 ],
 "metadata": {
  "kernelspec": {
   "display_name": "Python 3 (ipykernel)",
   "language": "python",
   "name": "python3"
  },
  "language_info": {
   "codemirror_mode": {
    "name": "ipython",
    "version": 3
   },
   "file_extension": ".py",
   "mimetype": "text/x-python",
   "name": "python",
   "nbconvert_exporter": "python",
   "pygments_lexer": "ipython3",
   "version": "3.9.7"
  }
 },
 "nbformat": 4,
 "nbformat_minor": 5
}
